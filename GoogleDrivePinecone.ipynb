{
 "cells": [
  {
   "cell_type": "code",
   "execution_count": null,
   "id": "1b31d506",
   "metadata": {},
   "outputs": [
    {
     "name": "stdout",
     "output_type": "stream",
     "text": [
      "Answer:  Toronto is a robot alien from Mars, a superhero, and a character from the comic book Action Comics #1.\n"
     ]
    }
   ],
   "source": [
    "import os\n",
    "from langchain_community.document_loaders import GoogleDriveLoader\n",
    "from langchain.text_splitter import RecursiveCharacterTextSplitter\n",
    "from langchain_openai import OpenAIEmbeddings, OpenAI\n",
    "from langchain.chains import RetrievalQA\n",
    "from langchain.vectorstores import Pinecone\n",
    "import pinecone\n",
    "\n",
    "\n",
    "# API keys\n",
    "os.environ[\"OPENAI_API_KEY\"]\n",
    "os.environ[\"GOOGLE_APPLICATION_CREDENTIALS\"] = \"google_credentials.json\"\n",
    "\n",
    "# Google Drive Loader\n",
    "loader = GoogleDriveLoader(\n",
    "    folder_id=\"15uTZMvgVgkosI0oflDwHADC7UxZYHGoS\",\n",
    "    recursive=True,\n",
    "    file_types=[\"pdf\", \"document\"]\n",
    ")\n",
    "documents = loader.load()\n",
    "\n",
    "# Text splitting\n",
    "text_splitter = RecursiveCharacterTextSplitter(chunk_size=1500, chunk_overlap=200)\n",
    "docs = text_splitter.split_documents(documents)\n",
    "\n",
    "\n",
    "import pinecone\n",
    "\n",
    "os.environ['PINECONE_API_KEY'] = 'pcsk_wh6UM_NoELpceMNHsZoCwbztv6H3MDVesiLHEKpFPRmNgHs9QqyGjrkMPnXfwkY5mXgWg'\n",
    "\n",
    "# Initialize Pinecone\n",
    "pinecone_api_key = \"pcsk_wh6UM_NoELpceMNHsZoCwbztv6H3MDVesiLHEKpFPRmNgHs9QqyGjrkMPnXfwkY5mXgWg\"\n",
    "pinecone_env = \"us-east-1\"\n",
    "index_name = \"llama-2-rag\"\n",
    "\n",
    "# Create Pinecone client\n",
    "pc = pinecone.Pinecone(api_key=\"pcsk_wh6UM_NoELpceMNHsZoCwbztv6H3MDVesiLHEKpFPRmNgHs9QqyGjrkMPnXfwkY5mXgWg\")\n",
    "\n",
    "# Connect to my index\n",
    "index = pc.Index(index_name)\n",
    "\n",
    "# Vector store using OpenAI embeddings\n",
    "embedding = OpenAIEmbeddings()\n",
    "vectorstore = Pinecone.from_documents(docs, embedding=embedding, index_name=index_name)\n",
    "\n",
    "\n",
    "retriever = vectorstore.as_retriever(search_kwargs={\"k\": 1})\n",
    "\n",
    "qa_chain = RetrievalQA.from_chain_type(\n",
    "    llm=OpenAI(),\n",
    "    retriever=retriever,\n",
    "    return_source_documents=True\n",
    ")\n",
    "\n",
    "# Sample query\n",
    "query = \"What is Toronto?\"\n",
    "result = qa_chain({\"query\": query})\n",
    "\n",
    "# Print the result\n",
    "print(\"Answer:\", result[\"result\"])"
   ]
  }
 ],
 "metadata": {
  "kernelspec": {
   "display_name": "venv",
   "language": "python",
   "name": "python3"
  },
  "language_info": {
   "codemirror_mode": {
    "name": "ipython",
    "version": 3
   },
   "file_extension": ".py",
   "mimetype": "text/x-python",
   "name": "python",
   "nbconvert_exporter": "python",
   "pygments_lexer": "ipython3",
   "version": "3.12.7"
  }
 },
 "nbformat": 4,
 "nbformat_minor": 5
}
