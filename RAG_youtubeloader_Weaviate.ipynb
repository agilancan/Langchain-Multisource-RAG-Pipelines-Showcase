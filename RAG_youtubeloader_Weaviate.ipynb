{
  "cells": [
    {
      "cell_type": "code",
      "execution_count": null,
      "metadata": {
        "id": "B32EeSw-62qL"
      },
      "outputs": [],
      "source": [
        "pip install --quiet langchain langchain_community openai tiktoken langchain_openai"
      ]
    },
    {
      "cell_type": "code",
      "execution_count": 2,
      "metadata": {
        "id": "WlFqOQvbTstx"
      },
      "outputs": [
        {
          "name": "stdout",
          "output_type": "stream",
          "text": [
            "^C\n",
            "Note: you may need to restart the kernel to use updated packages.\n"
          ]
        },
        {
          "name": "stderr",
          "output_type": "stream",
          "text": [
            "\n",
            "[notice] A new release of pip is available: 24.2 -> 25.0.1\n",
            "[notice] To update, run: python.exe -m pip install --upgrade pip\n"
          ]
        }
      ],
      "source": [
        "%pip install --upgrade --quiet  youtube-transcript-api"
      ]
    },
    {
      "cell_type": "code",
      "execution_count": null,
      "metadata": {
        "id": "qEhMqm2q7MjH"
      },
      "outputs": [],
      "source": [
        "from langchain_community.document_loaders import YoutubeLoader\n",
        "from langchain_community.document_loaders.youtube import TranscriptFormat\n",
        "\n",
        "loader = YoutubeLoader.from_youtube_url(\n",
        "    \"https://www.youtube.com/watch?v=5nOX4x1cim0\",\n",
        "    transcript_format=TranscriptFormat.CHUNKS,\n",
        "    chunk_size_seconds=30,\n",
        ")\n",
        "document = loader.load()"
      ]
    },
    {
      "cell_type": "code",
      "execution_count": null,
      "metadata": {
        "id": "5z9SNfeA8HE8"
      },
      "outputs": [],
      "source": [
        "import os\n",
        "os.environ[\"OPENAI_API_KEY\"]"
      ]
    },
    {
      "cell_type": "code",
      "execution_count": null,
      "metadata": {
        "id": "EZRbB85E8LX5"
      },
      "outputs": [],
      "source": [
        "from langchain_openai.embeddings import OpenAIEmbeddings\n",
        "embeddings = OpenAIEmbeddings()\n"
      ]
    },
    {
      "cell_type": "code",
      "execution_count": null,
      "metadata": {
        "id": "1XXEVfRG8zEi"
      },
      "outputs": [],
      "source": [
        "%pip install -Uqq langchain-weaviate"
      ]
    },
    {
      "cell_type": "code",
      "execution_count": null,
      "metadata": {
        "id": "nHEkdqR8bZXX"
      },
      "outputs": [],
      "source": [
        "%pip install --quiet weaviate-client"
      ]
    },
    {
      "cell_type": "code",
      "execution_count": null,
      "metadata": {
        "colab": {
          "base_uri": "https://localhost:8080/"
        },
        "id": "c-IGoSL98Uu8",
        "outputId": "f7b3e2ba-59dd-4937-99a5-3db6888e1ad9"
      },
      "outputs": [
        {
          "name": "stderr",
          "output_type": "stream",
          "text": [
            "INFO:weaviate-client:Started /root/.cache/weaviate-embedded: process ID 24136\n"
          ]
        }
      ],
      "source": [
        "import weaviate\n",
        "from langchain_weaviate.vectorstores import WeaviateVectorStore\n",
        "weaviate_client = weaviate.connect_to_embedded()"
      ]
    },
    {
      "cell_type": "code",
      "execution_count": null,
      "metadata": {
        "id": "2ozSVBup84Mb"
      },
      "outputs": [],
      "source": [
        "from langchain_text_splitters import RecursiveCharacterTextSplitter\n",
        "text_splitter = RecursiveCharacterTextSplitter(chunk_size = 1000, chunk_overlap = 100)\n",
        "documents = text_splitter.split_documents(document)\n",
        "db = WeaviateVectorStore.from_documents(document, embeddings, client=weaviate_client)"
      ]
    },
    {
      "cell_type": "code",
      "execution_count": null,
      "metadata": {
        "id": "qGeulDSF9eg-"
      },
      "outputs": [],
      "source": [
        "template = \"\"\" Answer the question only based on the following context.\n",
        "If you can't find answer in context, use your own knowlege\n",
        "{context}\n",
        "\n",
        "Question: {question}\n",
        "\"\"\"\n",
        "from langchain.prompts import PromptTemplate\n",
        "prompt = PromptTemplate(template=template)"
      ]
    },
    {
      "cell_type": "code",
      "execution_count": null,
      "metadata": {
        "id": "pS9MHIw29wpJ"
      },
      "outputs": [],
      "source": [
        "from langchain_openai.chat_models import ChatOpenAI\n",
        "model = ChatOpenAI(model_name=\"gpt-3.5-turbo\", temperature=0)"
      ]
    },
    {
      "cell_type": "code",
      "execution_count": null,
      "metadata": {
        "id": "DPzv-O-o-Hld"
      },
      "outputs": [],
      "source": [
        "retriever = db.as_retriever()"
      ]
    },
    {
      "cell_type": "code",
      "execution_count": null,
      "metadata": {
        "id": "HulSMsbE-4tP"
      },
      "outputs": [],
      "source": [
        "from langchain.chains.combine_documents import create_stuff_documents_chain\n",
        "from langchain.chains import create_retrieval_chain\n"
      ]
    },
    {
      "cell_type": "code",
      "execution_count": null,
      "metadata": {
        "id": "BrpNnkAv91XL"
      },
      "outputs": [],
      "source": [
        "combine_docs_chain = create_stuff_documents_chain(llm=model, prompt=prompt)\n",
        "\n",
        "retrieval_chain = create_retrieval_chain(retriever, combine_docs_chain)"
      ]
    },
    {
      "cell_type": "code",
      "execution_count": null,
      "metadata": {
        "colab": {
          "base_uri": "https://localhost:8080/"
        },
        "id": "UhwuWaT5_4dM",
        "outputId": "b26d506c-24cd-4a91-bb3d-121ff759aacd"
      },
      "outputs": [
        {
          "data": {
            "text/plain": [
              "{'input': 'In which areas do students enrolled in the AI program at Durham College receive training?',\n",
              " 'question': 'In which areas do students enrolled in the AI program at Durham College receive training?',\n",
              " 'context': [Document(metadata={'start_timestamp': '00:00:30', 'start_seconds': 30.0, 'source': 'https://www.youtube.com/watch?v=5nOX4x1cim0&t=30s'}, page_content='education to advance and establish your knowledge base and skill set to start a career in AI industry you will be given AI focused rigorous training in mathematics linear algebra statistics data science algorithms and Computing systems the program will teach the students the skills and tools they need to design and Implement an AI solution we have a comprehensive set of courses that not'),\n",
              "  Document(metadata={'start_timestamp': '00:04:00', 'start_seconds': 240.0, 'source': 'https://www.youtube.com/watch?v=5nOX4x1cim0&t=240s'}, page_content='years AI is reshaping every aspect of our private and public life as we know it DC graduates will be leading the way being part of the first students in Canada graduating from this program'),\n",
              "  Document(metadata={'start_timestamp': '00:02:00', 'start_seconds': 120.0, 'source': 'https://www.youtube.com/watch?v=5nOX4x1cim0&t=120s'}, page_content='going to prepare the graduates for all industri sectors where AI is relevant in terms of information systems and Computing infrastructure our students go to the industry to work as AI developers as machine learning engineers and deep learning Engineers they work as data scientists as data analysts they can also work as business intelligence analysts a is in one of the most high in'),\n",
              "  Document(metadata={'start_timestamp': '00:01:30', 'start_seconds': 90.0, 'source': 'https://www.youtube.com/watch?v=5nOX4x1cim0&t=90s'}, page_content='have improved lives of billions of people work integrated learning is an integral part of this program for example we have field placement in the program we also have Capstone projects where our students work along with their professors to conduct applied research in collaboration with local industry Partners AI is helping Humanity at every level of existence so ASP program is')],\n",
              " 'answer': 'Students enrolled in the AI program at Durham College receive training in mathematics, linear algebra, statistics, data science, algorithms, and computing systems.'}"
            ]
          },
          "execution_count": 16,
          "metadata": {},
          "output_type": "execute_result"
        }
      ],
      "source": [
        "retrieval_chain.invoke({\"input\":\"In which areas do students enrolled in the AI program at Durham College receive training?\",\"question\":\"In which areas do students enrolled in the AI program at Durham College receive training?\" })"
      ]
    },
    {
      "cell_type": "code",
      "execution_count": null,
      "metadata": {
        "colab": {
          "base_uri": "https://localhost:8080/"
        },
        "id": "-jwrrGYse6MY",
        "outputId": "cdf938ce-c25f-4005-b8d4-22eac725ee46"
      },
      "outputs": [
        {
          "name": "stdout",
          "output_type": "stream",
          "text": [
            "Students enrolled in the AI program at Durham College receive training in mathematics, linear algebra, statistics, data science, algorithms, and computing systems.\n"
          ]
        }
      ],
      "source": [
        "output = retrieval_chain.invoke({\"input\":\"In which areas do students enrolled in the AI program at Durham College receive training?\",\"question\":\"In which areas do students enrolled in the AI program at Durham College receive training?\" })\n",
        "print(output['answer'])"
      ]
    }
  ],
  "metadata": {
    "colab": {
      "provenance": []
    },
    "kernelspec": {
      "display_name": "venv",
      "language": "python",
      "name": "python3"
    },
    "language_info": {
      "codemirror_mode": {
        "name": "ipython",
        "version": 3
      },
      "file_extension": ".py",
      "mimetype": "text/x-python",
      "name": "python",
      "nbconvert_exporter": "python",
      "pygments_lexer": "ipython3",
      "version": "3.12.7"
    }
  },
  "nbformat": 4,
  "nbformat_minor": 0
}
